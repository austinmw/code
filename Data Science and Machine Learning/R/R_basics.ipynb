{
 "cells": [
  {
   "cell_type": "markdown",
   "metadata": {},
   "source": [
    "**From youtube/thenewboston R tutorial**"
   ]
  },
  {
   "cell_type": "code",
   "execution_count": 5,
   "metadata": {
    "collapsed": false
   },
   "outputs": [
    {
     "data": {
      "text/html": [
       "15"
      ],
      "text/latex": [
       "15"
      ],
      "text/markdown": [
       "15"
      ],
      "text/plain": [
       "[1] 15"
      ]
     },
     "metadata": {},
     "output_type": "display_data"
    },
    {
     "data": {
      "text/html": [
       "15"
      ],
      "text/latex": [
       "15"
      ],
      "text/markdown": [
       "15"
      ],
      "text/plain": [
       "[1] 15"
      ]
     },
     "metadata": {},
     "output_type": "display_data"
    },
    {
     "ename": "ERROR",
     "evalue": "Error in eval(expr, envir, enclos): object 'a' not found\n",
     "output_type": "error",
     "traceback": [
      "Error in eval(expr, envir, enclos): object 'a' not found\nTraceback:\n"
     ]
    }
   ],
   "source": [
    "# initializing and removing variables\n",
    "a = 10\n",
    "b <- 5\n",
    "assign(\"c\",20)\n",
    "a + b\n",
    "c - b\n",
    "rm(a)\n",
    "a # cleared above, error now"
   ]
  },
  {
   "cell_type": "code",
   "execution_count": 6,
   "metadata": {
    "collapsed": false
   },
   "outputs": [
    {
     "data": {
      "text/html": [
       "'numeric'"
      ],
      "text/latex": [
       "'numeric'"
      ],
      "text/markdown": [
       "'numeric'"
      ],
      "text/plain": [
       "[1] \"numeric\""
      ]
     },
     "metadata": {},
     "output_type": "display_data"
    },
    {
     "data": {
      "text/html": [
       "'character'"
      ],
      "text/latex": [
       "'character'"
      ],
      "text/markdown": [
       "'character'"
      ],
      "text/plain": [
       "[1] \"character\""
      ]
     },
     "metadata": {},
     "output_type": "display_data"
    },
    {
     "data": {
      "text/html": [
       "'numeric'"
      ],
      "text/latex": [
       "'numeric'"
      ],
      "text/markdown": [
       "'numeric'"
      ],
      "text/plain": [
       "[1] \"numeric\""
      ]
     },
     "metadata": {},
     "output_type": "display_data"
    },
    {
     "data": {
      "text/html": [
       "TRUE"
      ],
      "text/latex": [
       "TRUE"
      ],
      "text/markdown": [
       "TRUE"
      ],
      "text/plain": [
       "[1] TRUE"
      ]
     },
     "metadata": {},
     "output_type": "display_data"
    },
    {
     "data": {
      "text/html": [
       "FALSE"
      ],
      "text/latex": [
       "FALSE"
      ],
      "text/markdown": [
       "FALSE"
      ],
      "text/plain": [
       "[1] FALSE"
      ]
     },
     "metadata": {},
     "output_type": "display_data"
    }
   ],
   "source": [
    "# types\n",
    "a <- 32\n",
    "b <- \"bucky\"\n",
    "c <- 1.125\n",
    "class(a)\n",
    "class(b)\n",
    "class(c)\n",
    "is.numeric(a)\n",
    "is.numeric(b)"
   ]
  },
  {
   "cell_type": "code",
   "execution_count": 7,
   "metadata": {
    "collapsed": false
   },
   "outputs": [
    {
     "data": {
      "text/html": [
       "12"
      ],
      "text/latex": [
       "12"
      ],
      "text/markdown": [
       "12"
      ],
      "text/plain": [
       "[1] 12"
      ]
     },
     "metadata": {},
     "output_type": "display_data"
    },
    {
     "data": {
      "text/html": [
       "4"
      ],
      "text/latex": [
       "4"
      ],
      "text/markdown": [
       "4"
      ],
      "text/plain": [
       "[1] 4"
      ]
     },
     "metadata": {},
     "output_type": "display_data"
    }
   ],
   "source": [
    "# count characters\n",
    "name <- \"Austin Welch\"\n",
    "nchar(name)\n",
    "nchar(\"name\")"
   ]
  },
  {
   "cell_type": "code",
   "execution_count": 9,
   "metadata": {
    "collapsed": false
   },
   "outputs": [
    {
     "data": {
      "text/html": [
       "'Date'"
      ],
      "text/latex": [
       "'Date'"
      ],
      "text/markdown": [
       "'Date'"
      ],
      "text/plain": [
       "[1] \"Date\""
      ]
     },
     "metadata": {},
     "output_type": "display_data"
    }
   ],
   "source": [
    "# dates\n",
    "mydate <- as.Date(\"2014-06-28\")\n",
    "class(mydate)"
   ]
  },
  {
   "cell_type": "code",
   "execution_count": 11,
   "metadata": {
    "collapsed": false
   },
   "outputs": [
    {
     "data": {
      "text/html": [
       "FALSE"
      ],
      "text/latex": [
       "FALSE"
      ],
      "text/markdown": [
       "FALSE"
      ],
      "text/plain": [
       "[1] FALSE"
      ]
     },
     "metadata": {},
     "output_type": "display_data"
    },
    {
     "data": {
      "text/html": [
       "TRUE"
      ],
      "text/latex": [
       "TRUE"
      ],
      "text/markdown": [
       "TRUE"
      ],
      "text/plain": [
       "[1] TRUE"
      ]
     },
     "metadata": {},
     "output_type": "display_data"
    },
    {
     "data": {
      "text/html": [
       "TRUE"
      ],
      "text/latex": [
       "TRUE"
      ],
      "text/markdown": [
       "TRUE"
      ],
      "text/plain": [
       "[1] TRUE"
      ]
     },
     "metadata": {},
     "output_type": "display_data"
    },
    {
     "data": {
      "text/html": [
       "TRUE"
      ],
      "text/latex": [
       "TRUE"
      ],
      "text/markdown": [
       "TRUE"
      ],
      "text/plain": [
       "[1] TRUE"
      ]
     },
     "metadata": {},
     "output_type": "display_data"
    }
   ],
   "source": [
    "# equality operators\n",
    "5 == 7\n",
    "5 < 7\n",
    "3 != 4\n",
    "\"test\" == \"test\""
   ]
  },
  {
   "cell_type": "code",
   "execution_count": 12,
   "metadata": {
    "collapsed": false
   },
   "outputs": [
    {
     "data": {
      "text/html": [
       "1"
      ],
      "text/latex": [
       "1"
      ],
      "text/markdown": [
       "1"
      ],
      "text/plain": [
       "[1] 1"
      ]
     },
     "metadata": {},
     "output_type": "display_data"
    },
    {
     "data": {
      "text/html": [
       "<ol class=list-inline>\n",
       "\t<li>'bucky'</li>\n",
       "\t<li>'hoss'</li>\n",
       "\t<li>'emma'</li>\n",
       "</ol>\n"
      ],
      "text/latex": [
       "\\begin{enumerate*}\n",
       "\\item 'bucky'\n",
       "\\item 'hoss'\n",
       "\\item 'emma'\n",
       "\\end{enumerate*}\n"
      ],
      "text/markdown": [
       "1. 'bucky'\n",
       "2. 'hoss'\n",
       "3. 'emma'\n",
       "\n",
       "\n"
      ],
      "text/plain": [
       "[1] \"bucky\" \"hoss\"  \"emma\" "
      ]
     },
     "metadata": {},
     "output_type": "display_data"
    },
    {
     "data": {
      "text/html": [
       "<ol class=list-inline>\n",
       "\t<li>2</li>\n",
       "\t<li>4</li>\n",
       "\t<li>6</li>\n",
       "\t<li>8</li>\n",
       "\t<li>10</li>\n",
       "</ol>\n"
      ],
      "text/latex": [
       "\\begin{enumerate*}\n",
       "\\item 2\n",
       "\\item 4\n",
       "\\item 6\n",
       "\\item 8\n",
       "\\item 10\n",
       "\\end{enumerate*}\n"
      ],
      "text/markdown": [
       "1. 2\n",
       "2. 4\n",
       "3. 6\n",
       "4. 8\n",
       "5. 10\n",
       "\n",
       "\n"
      ],
      "text/plain": [
       "[1]  2  4  6  8 10"
      ]
     },
     "metadata": {},
     "output_type": "display_data"
    },
    {
     "data": {
      "text/html": [
       "<ol class=list-inline>\n",
       "\t<li>1</li>\n",
       "\t<li>8</li>\n",
       "\t<li>27</li>\n",
       "\t<li>64</li>\n",
       "\t<li>125</li>\n",
       "</ol>\n"
      ],
      "text/latex": [
       "\\begin{enumerate*}\n",
       "\\item 1\n",
       "\\item 8\n",
       "\\item 27\n",
       "\\item 64\n",
       "\\item 125\n",
       "\\end{enumerate*}\n"
      ],
      "text/markdown": [
       "1. 1\n",
       "2. 8\n",
       "3. 27\n",
       "4. 64\n",
       "5. 125\n",
       "\n",
       "\n"
      ],
      "text/plain": [
       "[1]   1   8  27  64 125"
      ]
     },
     "metadata": {},
     "output_type": "display_data"
    },
    {
     "data": {
      "text/html": [
       "<ol class=list-inline>\n",
       "\t<li>1</li>\n",
       "\t<li>1.4142135623731</li>\n",
       "\t<li>1.73205080756888</li>\n",
       "\t<li>2</li>\n",
       "\t<li>2.23606797749979</li>\n",
       "</ol>\n"
      ],
      "text/latex": [
       "\\begin{enumerate*}\n",
       "\\item 1\n",
       "\\item 1.4142135623731\n",
       "\\item 1.73205080756888\n",
       "\\item 2\n",
       "\\item 2.23606797749979\n",
       "\\end{enumerate*}\n"
      ],
      "text/markdown": [
       "1. 1\n",
       "2. 1.4142135623731\n",
       "3. 1.73205080756888\n",
       "4. 2\n",
       "5. 2.23606797749979\n",
       "\n",
       "\n"
      ],
      "text/plain": [
       "[1] 1.000000 1.414214 1.732051 2.000000 2.236068"
      ]
     },
     "metadata": {},
     "output_type": "display_data"
    }
   ],
   "source": [
    "# vectors\n",
    "b1 <- c(1,2,3,4,5) # c combines a list\n",
    "b2 <- c(\"bucky\",\"hoss\",\"emma\")\n",
    "b1[1] # indexing starts at 1\n",
    "b2\n",
    "b1*2\n",
    "b1^3\n",
    "sqrt(b1)"
   ]
  },
  {
   "cell_type": "code",
   "execution_count": 15,
   "metadata": {
    "collapsed": false
   },
   "outputs": [
    {
     "data": {
      "text/html": [
       "<ol class=list-inline>\n",
       "\t<li>1</li>\n",
       "\t<li>2</li>\n",
       "\t<li>3</li>\n",
       "\t<li>4</li>\n",
       "\t<li>5</li>\n",
       "</ol>\n"
      ],
      "text/latex": [
       "\\begin{enumerate*}\n",
       "\\item 1\n",
       "\\item 2\n",
       "\\item 3\n",
       "\\item 4\n",
       "\\item 5\n",
       "\\end{enumerate*}\n"
      ],
      "text/markdown": [
       "1. 1\n",
       "2. 2\n",
       "3. 3\n",
       "4. 4\n",
       "5. 5\n",
       "\n",
       "\n"
      ],
      "text/plain": [
       "[1] 1 2 3 4 5"
      ]
     },
     "metadata": {},
     "output_type": "display_data"
    },
    {
     "data": {
      "text/html": [
       "5"
      ],
      "text/latex": [
       "5"
      ],
      "text/markdown": [
       "5"
      ],
      "text/plain": [
       "[1] 5"
      ]
     },
     "metadata": {},
     "output_type": "display_data"
    },
    {
     "name": "stderr",
     "output_type": "stream",
     "text": [
      "Warning message in a + b:\n",
      "“longer object length is not a multiple of shorter object length”"
     ]
    },
    {
     "data": {
      "text/html": [
       "<ol class=list-inline>\n",
       "\t<li>2</li>\n",
       "\t<li>4</li>\n",
       "\t<li>6</li>\n",
       "\t<li>5</li>\n",
       "\t<li>7</li>\n",
       "</ol>\n"
      ],
      "text/latex": [
       "\\begin{enumerate*}\n",
       "\\item 2\n",
       "\\item 4\n",
       "\\item 6\n",
       "\\item 5\n",
       "\\item 7\n",
       "\\end{enumerate*}\n"
      ],
      "text/markdown": [
       "1. 2\n",
       "2. 4\n",
       "3. 6\n",
       "4. 5\n",
       "5. 7\n",
       "\n",
       "\n"
      ],
      "text/plain": [
       "[1] 2 4 6 5 7"
      ]
     },
     "metadata": {},
     "output_type": "display_data"
    }
   ],
   "source": [
    "# more vectors\n",
    "vec <- 1:5\n",
    "vec\n",
    "length(vec)\n",
    "\n",
    "a = 1:5\n",
    "b = 1:3\n",
    "a+b # loops b, produces warning"
   ]
  },
  {
   "cell_type": "code",
   "execution_count": 16,
   "metadata": {
    "collapsed": false
   },
   "outputs": [
    {
     "data": {
      "text/html": [
       "<ol class=list-inline>\n",
       "\t<li>TRUE</li>\n",
       "\t<li>TRUE</li>\n",
       "\t<li>TRUE</li>\n",
       "\t<li>TRUE</li>\n",
       "\t<li>FALSE</li>\n",
       "</ol>\n"
      ],
      "text/latex": [
       "\\begin{enumerate*}\n",
       "\\item TRUE\n",
       "\\item TRUE\n",
       "\\item TRUE\n",
       "\\item TRUE\n",
       "\\item FALSE\n",
       "\\end{enumerate*}\n"
      ],
      "text/markdown": [
       "1. TRUE\n",
       "2. TRUE\n",
       "3. TRUE\n",
       "4. TRUE\n",
       "5. FALSE\n",
       "\n",
       "\n"
      ],
      "text/plain": [
       "[1]  TRUE  TRUE  TRUE  TRUE FALSE"
      ]
     },
     "metadata": {},
     "output_type": "display_data"
    },
    {
     "data": {
      "text/html": [
       "TRUE"
      ],
      "text/latex": [
       "TRUE"
      ],
      "text/markdown": [
       "TRUE"
      ],
      "text/plain": [
       "[1] TRUE"
      ]
     },
     "metadata": {},
     "output_type": "display_data"
    },
    {
     "data": {
      "text/html": [
       "FALSE"
      ],
      "text/latex": [
       "FALSE"
      ],
      "text/markdown": [
       "FALSE"
      ],
      "text/plain": [
       "[1] FALSE"
      ]
     },
     "metadata": {},
     "output_type": "display_data"
    },
    {
     "data": {
      "text/html": [
       "<ol class=list-inline>\n",
       "\t<li>1</li>\n",
       "\t<li>2</li>\n",
       "\t<li>3</li>\n",
       "</ol>\n"
      ],
      "text/latex": [
       "\\begin{enumerate*}\n",
       "\\item 1\n",
       "\\item 2\n",
       "\\item 3\n",
       "\\end{enumerate*}\n"
      ],
      "text/markdown": [
       "1. 1\n",
       "2. 2\n",
       "3. 3\n",
       "\n",
       "\n"
      ],
      "text/plain": [
       "[1] 1 2 3"
      ]
     },
     "metadata": {},
     "output_type": "display_data"
    }
   ],
   "source": [
    "# more vectors\n",
    "a < 5\n",
    "any(a < 5)\n",
    "all(a < 5)\n",
    "x = 1:10\n",
    "x[1:3]"
   ]
  },
  {
   "cell_type": "code",
   "execution_count": 17,
   "metadata": {
    "collapsed": false
   },
   "outputs": [
    {
     "data": {
      "text/html": [
       "<table>\n",
       "<thead><tr><th scope=col>id</th><th scope=col>age</th><th scope=col>name</th></tr></thead>\n",
       "<tbody>\n",
       "\t<tr><td> 1</td><td>18</td><td>a </td></tr>\n",
       "\t<tr><td> 2</td><td>13</td><td>b </td></tr>\n",
       "\t<tr><td> 3</td><td>15</td><td>c </td></tr>\n",
       "\t<tr><td> 4</td><td>13</td><td>d </td></tr>\n",
       "\t<tr><td> 5</td><td> 1</td><td>e </td></tr>\n",
       "\t<tr><td> 6</td><td> 2</td><td>f </td></tr>\n",
       "\t<tr><td> 7</td><td>19</td><td>g </td></tr>\n",
       "\t<tr><td> 8</td><td>14</td><td>h </td></tr>\n",
       "\t<tr><td> 9</td><td>16</td><td>i </td></tr>\n",
       "\t<tr><td>10</td><td>65</td><td>j </td></tr>\n",
       "\t<tr><td>11</td><td>44</td><td>k </td></tr>\n",
       "\t<tr><td>12</td><td>43</td><td>l </td></tr>\n",
       "\t<tr><td>13</td><td>32</td><td>m </td></tr>\n",
       "\t<tr><td>14</td><td>59</td><td>n </td></tr>\n",
       "\t<tr><td>15</td><td>10</td><td>o </td></tr>\n",
       "</tbody>\n",
       "</table>\n"
      ],
      "text/latex": [
       "\\begin{tabular}{r|lll}\n",
       " id & age & name\\\\\n",
       "\\hline\n",
       "\t  1 & 18 & a \\\\\n",
       "\t  2 & 13 & b \\\\\n",
       "\t  3 & 15 & c \\\\\n",
       "\t  4 & 13 & d \\\\\n",
       "\t  5 &  1 & e \\\\\n",
       "\t  6 &  2 & f \\\\\n",
       "\t  7 & 19 & g \\\\\n",
       "\t  8 & 14 & h \\\\\n",
       "\t  9 & 16 & i \\\\\n",
       "\t 10 & 65 & j \\\\\n",
       "\t 11 & 44 & k \\\\\n",
       "\t 12 & 43 & l \\\\\n",
       "\t 13 & 32 & m \\\\\n",
       "\t 14 & 59 & n \\\\\n",
       "\t 15 & 10 & o \\\\\n",
       "\\end{tabular}\n"
      ],
      "text/markdown": [
       "\n",
       "id | age | name | \n",
       "|---|---|---|---|---|---|---|---|---|---|---|---|---|---|---|\n",
       "|  1 | 18 | a  | \n",
       "|  2 | 13 | b  | \n",
       "|  3 | 15 | c  | \n",
       "|  4 | 13 | d  | \n",
       "|  5 |  1 | e  | \n",
       "|  6 |  2 | f  | \n",
       "|  7 | 19 | g  | \n",
       "|  8 | 14 | h  | \n",
       "|  9 | 16 | i  | \n",
       "| 10 | 65 | j  | \n",
       "| 11 | 44 | k  | \n",
       "| 12 | 43 | l  | \n",
       "| 13 | 32 | m  | \n",
       "| 14 | 59 | n  | \n",
       "| 15 | 10 | o  | \n",
       "\n",
       "\n"
      ],
      "text/plain": [
       "   id age name\n",
       "1   1 18  a   \n",
       "2   2 13  b   \n",
       "3   3 15  c   \n",
       "4   4 13  d   \n",
       "5   5  1  e   \n",
       "6   6  2  f   \n",
       "7   7 19  g   \n",
       "8   8 14  h   \n",
       "9   9 16  i   \n",
       "10 10 65  j   \n",
       "11 11 44  k   \n",
       "12 12 43  l   \n",
       "13 13 32  m   \n",
       "14 14 59  n   \n",
       "15 15 10  o   "
      ]
     },
     "metadata": {},
     "output_type": "display_data"
    },
    {
     "data": {
      "text/html": [
       "15"
      ],
      "text/latex": [
       "15"
      ],
      "text/markdown": [
       "15"
      ],
      "text/plain": [
       "[1] 15"
      ]
     },
     "metadata": {},
     "output_type": "display_data"
    },
    {
     "data": {
      "text/html": [
       "3"
      ],
      "text/latex": [
       "3"
      ],
      "text/markdown": [
       "3"
      ],
      "text/plain": [
       "[1] 3"
      ]
     },
     "metadata": {},
     "output_type": "display_data"
    },
    {
     "data": {
      "text/html": [
       "<ol class=list-inline>\n",
       "\t<li>15</li>\n",
       "\t<li>3</li>\n",
       "</ol>\n"
      ],
      "text/latex": [
       "\\begin{enumerate*}\n",
       "\\item 15\n",
       "\\item 3\n",
       "\\end{enumerate*}\n"
      ],
      "text/markdown": [
       "1. 15\n",
       "2. 3\n",
       "\n",
       "\n"
      ],
      "text/plain": [
       "[1] 15  3"
      ]
     },
     "metadata": {},
     "output_type": "display_data"
    },
    {
     "data": {
      "text/html": [
       "'age'"
      ],
      "text/latex": [
       "'age'"
      ],
      "text/markdown": [
       "'age'"
      ],
      "text/plain": [
       "[1] \"age\""
      ]
     },
     "metadata": {},
     "output_type": "display_data"
    },
    {
     "data": {
      "text/html": [
       "<table>\n",
       "<thead><tr><th scope=col>id</th><th scope=col>age</th><th scope=col>name</th></tr></thead>\n",
       "<tbody>\n",
       "\t<tr><td>1 </td><td>18</td><td>a </td></tr>\n",
       "\t<tr><td>2 </td><td>13</td><td>b </td></tr>\n",
       "\t<tr><td>3 </td><td>15</td><td>c </td></tr>\n",
       "\t<tr><td>4 </td><td>13</td><td>d </td></tr>\n",
       "\t<tr><td>5 </td><td> 1</td><td>e </td></tr>\n",
       "\t<tr><td>6 </td><td> 2</td><td>f </td></tr>\n",
       "</tbody>\n",
       "</table>\n"
      ],
      "text/latex": [
       "\\begin{tabular}{r|lll}\n",
       " id & age & name\\\\\n",
       "\\hline\n",
       "\t 1  & 18 & a \\\\\n",
       "\t 2  & 13 & b \\\\\n",
       "\t 3  & 15 & c \\\\\n",
       "\t 4  & 13 & d \\\\\n",
       "\t 5  &  1 & e \\\\\n",
       "\t 6  &  2 & f \\\\\n",
       "\\end{tabular}\n"
      ],
      "text/markdown": [
       "\n",
       "id | age | name | \n",
       "|---|---|---|---|---|---|\n",
       "| 1  | 18 | a  | \n",
       "| 2  | 13 | b  | \n",
       "| 3  | 15 | c  | \n",
       "| 4  | 13 | d  | \n",
       "| 5  |  1 | e  | \n",
       "| 6  |  2 | f  | \n",
       "\n",
       "\n"
      ],
      "text/plain": [
       "  id age name\n",
       "1 1  18  a   \n",
       "2 2  13  b   \n",
       "3 3  15  c   \n",
       "4 4  13  d   \n",
       "5 5   1  e   \n",
       "6 6   2  f   "
      ]
     },
     "metadata": {},
     "output_type": "display_data"
    },
    {
     "data": {
      "text/html": [
       "<table>\n",
       "<thead><tr><th></th><th scope=col>id</th><th scope=col>age</th><th scope=col>name</th></tr></thead>\n",
       "<tbody>\n",
       "\t<tr><th scope=row>10</th><td>10</td><td>65</td><td>j </td></tr>\n",
       "\t<tr><th scope=row>11</th><td>11</td><td>44</td><td>k </td></tr>\n",
       "\t<tr><th scope=row>12</th><td>12</td><td>43</td><td>l </td></tr>\n",
       "\t<tr><th scope=row>13</th><td>13</td><td>32</td><td>m </td></tr>\n",
       "\t<tr><th scope=row>14</th><td>14</td><td>59</td><td>n </td></tr>\n",
       "\t<tr><th scope=row>15</th><td>15</td><td>10</td><td>o </td></tr>\n",
       "</tbody>\n",
       "</table>\n"
      ],
      "text/latex": [
       "\\begin{tabular}{r|lll}\n",
       "  & id & age & name\\\\\n",
       "\\hline\n",
       "\t10 & 10 & 65 & j \\\\\n",
       "\t11 & 11 & 44 & k \\\\\n",
       "\t12 & 12 & 43 & l \\\\\n",
       "\t13 & 13 & 32 & m \\\\\n",
       "\t14 & 14 & 59 & n \\\\\n",
       "\t15 & 15 & 10 & o \\\\\n",
       "\\end{tabular}\n"
      ],
      "text/markdown": [
       "\n",
       "| <!--/--> | id | age | name | \n",
       "|---|---|---|---|---|---|\n",
       "| 10 | 10 | 65 | j  | \n",
       "| 11 | 11 | 44 | k  | \n",
       "| 12 | 12 | 43 | l  | \n",
       "| 13 | 13 | 32 | m  | \n",
       "| 14 | 14 | 59 | n  | \n",
       "| 15 | 15 | 10 | o  | \n",
       "\n",
       "\n"
      ],
      "text/plain": [
       "   id age name\n",
       "10 10 65  j   \n",
       "11 11 44  k   \n",
       "12 12 43  l   \n",
       "13 13 32  m   \n",
       "14 14 59  n   \n",
       "15 15 10  o   "
      ]
     },
     "metadata": {},
     "output_type": "display_data"
    },
    {
     "data": {
      "text/html": [
       "13"
      ],
      "text/latex": [
       "13"
      ],
      "text/markdown": [
       "13"
      ],
      "text/plain": [
       "[1] 13"
      ]
     },
     "metadata": {},
     "output_type": "display_data"
    },
    {
     "data": {
      "text/html": [
       "<table>\n",
       "<thead><tr><th scope=col>id</th><th scope=col>age</th></tr></thead>\n",
       "<tbody>\n",
       "\t<tr><td>1 </td><td>18</td></tr>\n",
       "</tbody>\n",
       "</table>\n"
      ],
      "text/latex": [
       "\\begin{tabular}{r|ll}\n",
       " id & age\\\\\n",
       "\\hline\n",
       "\t 1  & 18\\\\\n",
       "\\end{tabular}\n"
      ],
      "text/markdown": [
       "\n",
       "id | age | \n",
       "|---|\n",
       "| 1  | 18 | \n",
       "\n",
       "\n"
      ],
      "text/plain": [
       "  id age\n",
       "1 1  18 "
      ]
     },
     "metadata": {},
     "output_type": "display_data"
    },
    {
     "data": {
      "text/html": [
       "<ol class=list-inline>\n",
       "\t<li>a</li>\n",
       "\t<li>b</li>\n",
       "\t<li>c</li>\n",
       "\t<li>d</li>\n",
       "\t<li>e</li>\n",
       "\t<li>f</li>\n",
       "\t<li>g</li>\n",
       "\t<li>h</li>\n",
       "\t<li>i</li>\n",
       "\t<li>j</li>\n",
       "\t<li>k</li>\n",
       "\t<li>l</li>\n",
       "\t<li>m</li>\n",
       "\t<li>n</li>\n",
       "\t<li>o</li>\n",
       "</ol>\n"
      ],
      "text/latex": [
       "\\begin{enumerate*}\n",
       "\\item a\n",
       "\\item b\n",
       "\\item c\n",
       "\\item d\n",
       "\\item e\n",
       "\\item f\n",
       "\\item g\n",
       "\\item h\n",
       "\\item i\n",
       "\\item j\n",
       "\\item k\n",
       "\\item l\n",
       "\\item m\n",
       "\\item n\n",
       "\\item o\n",
       "\\end{enumerate*}\n"
      ],
      "text/markdown": [
       "1. a\n",
       "2. b\n",
       "3. c\n",
       "4. d\n",
       "5. e\n",
       "6. f\n",
       "7. g\n",
       "8. h\n",
       "9. i\n",
       "10. j\n",
       "11. k\n",
       "12. l\n",
       "13. m\n",
       "14. n\n",
       "15. o\n",
       "\n",
       "\n"
      ],
      "text/plain": [
       " [1] a b c d e f g h i j k l m n o\n",
       "Levels: a b c d e f g h i j k l m n o"
      ]
     },
     "metadata": {},
     "output_type": "display_data"
    },
    {
     "data": {
      "text/html": [
       "'data.frame'"
      ],
      "text/latex": [
       "'data.frame'"
      ],
      "text/markdown": [
       "'data.frame'"
      ],
      "text/plain": [
       "[1] \"data.frame\""
      ]
     },
     "metadata": {},
     "output_type": "display_data"
    },
    {
     "data": {
      "text/html": [
       "'numeric'"
      ],
      "text/latex": [
       "'numeric'"
      ],
      "text/markdown": [
       "'numeric'"
      ],
      "text/plain": [
       "[1] \"numeric\""
      ]
     },
     "metadata": {},
     "output_type": "display_data"
    }
   ],
   "source": [
    "# data frames (spreadsheet)\n",
    "id <- 1:15\n",
    "age <- c(18,13,15,13,1,2,19,14,16,65,44,43,32,59,10)\n",
    "name <- c(\"a\",\"b\",\"c\",\"d\",\"e\",\"f\",\"g\",\"h\",\"i\",\"j\",\"k\",\"l\",\"m\",\"n\",\"o\")\n",
    "x <- data.frame(id, age, name)\n",
    "x\n",
    "nrow(x)\n",
    "ncol(x)\n",
    "dim(x)\n",
    "names(x)[2]\n",
    "head(x)\n",
    "tail(x)\n",
    "x[2,2]\n",
    "x[1, 1:2]\n",
    "x[ ,3]\n",
    "class(x[\"age\"]) # data frame\n",
    "class(x[,\"age\"]) # numeric"
   ]
  }
 ],
 "metadata": {
  "anaconda-cloud": {},
  "kernelspec": {
   "display_name": "R",
   "language": "R",
   "name": "ir"
  },
  "language_info": {
   "codemirror_mode": "r",
   "file_extension": ".r",
   "mimetype": "text/x-r-source",
   "name": "R",
   "pygments_lexer": "r",
   "version": "3.3.1"
  }
 },
 "nbformat": 4,
 "nbformat_minor": 1
}
