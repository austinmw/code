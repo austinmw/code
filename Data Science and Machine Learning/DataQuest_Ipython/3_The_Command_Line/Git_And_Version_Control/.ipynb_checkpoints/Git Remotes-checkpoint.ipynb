{
 "cells": [
  {
   "cell_type": "markdown",
   "metadata": {},
   "source": [
    "## 1: Git Remotes\n",
    "\n",
    "One of the most useful ways to use git is to use it in conjunction with Github. Using git with Github allows you to push your code to remote repositories. This enables you to:\n",
    "\n",
    "- Share your code with others and build a portfolio.\n",
    "- Collaborate with others on your project and build your code together.\n",
    "- Download and use code others have created.\n",
    "\n",
    "[Here's](https://github.com/VikParuchuri/evolve-music2) an example of a remote repository on Github. Repositories can be viewed on your Github profile, and are a great way to build a portfolio and get noticed by recruiters.\n",
    "\n",
    "Remote repositories aren't just useful for building a portfolio. Pushing to Github also allows you to collaborate with others on your code. For example, linux is developed on Github, and has thousands of different contributors. Many companies, including Google and Facebook, also use Github to work on code projects across teams.\n",
    "\n",
    "Remote repositories also enable you to access and use code you didn't write. For instance, [this repo](https://github.com/amznlabs/amazon-dsstne) will let you download Amazon's Deep Learning tools and start training models. Since the reposistory is public, it's accessible by anyone, and can be downloaded and used by anyone. Repositories on Github can also be private, in which case they are hidden, and not accessible by others.\n",
    "\n",
    "In order to get a remote repository onto your own computer, you'll need to do something called cloning. cloning copies a repository from one location to a folder on your computer. The repository retains all of its git history, and you can work with it just like you would work with a git repository you created yourself.\n",
    "\n",
    "In order to clone a remote repository, we'll use the git clone command. If we were cloning from Github, we'd specify a Github URL to clone a repository from.\n",
    "\n",
    "Here's how we'd clone the Amazon Deep Learning repo from Github:\n",
    "\n",
    "    git clone https://github.com/amznlabs/amazon-dsstne.git\n",
    "\n",
    "https://github.com/amznlabs/amazon-dsstne.git is the URL of the git repository that we're cloning. This will automatically create a folder called amazon-dsstne in our current folder, and place the repository there.\n",
    "\n",
    "Since we're working with a simplified remote repository for the purposes of this mission, we'll clone a repository slightly differently:\n",
    "\n",
    "    git clone /dataquest/user/git/chatbot\n",
    "\n",
    "This will clone the repository from /dataquest/user/git/chatbot, a path on our local computer, to our current folder, and place it into a folder called chatbot.\n",
    "\n",
    "If we specify a second argument to git clone, we can change the folder the repository is saved to:\n",
    "\n",
    "    git clone /dataquest/user/git/chatbot silentbot\n",
    "\n",
    "The above code will place the chatbot repository into a folder called silentbot."
   ]
  },
  {
   "cell_type": "code",
   "execution_count": 1,
   "metadata": {
    "collapsed": false
   },
   "outputs": [
    {
     "name": "stderr",
     "output_type": "stream",
     "text": [
      "Cloning into 'amazon-dsstne'...\n"
     ]
    }
   ],
   "source": [
    "%%bash\n",
    "git clone https://github.com/amznlabs/amazon-dsstne.git"
   ]
  },
  {
   "cell_type": "markdown",
   "metadata": {},
   "source": [
    "## 2: Making Changes To Cloned Repositories \n",
    "\n",
    "Now that we've cloned a repository (or repo for short), we can makes changes in the same way that we did in the last mission. We'll be able to edit files, add them to the staging area, and then commit the changes. These changes will be reflected in the local version of the repo, but not the remote version.\n",
    "\n",
    "Here's a diagram showing how the local repo and the remote repo are separate:\n",
    "\n",
    "<img src=\"data/diagram.png\"/>\n",
    "\n",
    "After making the commit in the diagram, the local repo will have one more commit than the remote repo, and the file README.md will be different.\n",
    "\n",
    "The README.md file is one you'll often see in projects on Github. A README file helps people understand what the project is about and how to install it. It's common for the README file to be in Markdown format, which is a way to create lists and other complex but useful structures using plain text. The markdown format has the .md extension.\n",
    "\n",
    "Similar to the diagram above, we'll edit the README.md file to add a line, then commit it to the repository. When updating shared repositories, it's important to add informative messages when comitting, so other people can easily figure out what each commit is doing without reading through the code. This gets really important when debugging issues with code that multiple people are working on."
   ]
  },
  {
   "cell_type": "code",
   "execution_count": 6,
   "metadata": {
    "collapsed": false
   },
   "outputs": [
    {
     "name": "stdout",
     "output_type": "stream",
     "text": [
      "Dockerfile\n",
      "FAQ.md\n",
      "LICENSE\n",
      "NOTICE\n",
      "README.md\n",
      "benchmarks\n",
      "docs\n",
      "samples\n",
      "src\n",
      "talks\n",
      "tst\n",
      "\n",
      "\n",
      "# Amazon DSSTNE: Deep Scalable Sparse Tensor Network Engine\n",
      "\n",
      "DSSTNE (pronounced \"Destiny\") is an open source software library for training and deploying recommendation\n",
      "models with sparse inputs, fully connected hidden layers, and sparse outputs. Models with weight matrices\n",
      "that are too large for a single GPU can still be trained on a single host. DSSTNE has been used at Amazon\n",
      "to generate personalized product recommendations for our customers at Amazon's scale. It is designed for\n",
      "production deployment of real-world applications which need to emphasize speed and scale over experimental \n",
      "flexibility.\n",
      "\n",
      "DSSTNE was built with a number of features for production recommendation workloads:\n",
      "\n",
      "* **Multi-GPU Scale**: Training and prediction\n",
      "both scale out to use multiple GPUs, spreading out computation\n",
      "and storage in a model-parallel fashion for each layer.\n",
      "* **Large Layers**: Model-parallel scaling enables larger networks than\n",
      "are possible with a single GPU.\n",
      "* **Sparse Data**: DSSTNE is optimized for fast performance on sparse datasets, common in recommendation \n",
      "problems. Custom GPU kernels perform sparse computation on the GPU, without filling in lots of zeroes.\n",
      "\n",
      "## Benchmarks\n",
      "* scottlegrand@ reported [near-linear scaling with multiple GPUs] on the MovieLens recommendation problem \n",
      "(https://medium.com/@scottlegrand/first-dsstne-benchmarks-tldr-almost-15x-faster-than-tensorflow-393dbeb80c0f#.ghe74fu1q)\n",
      "* Directions on how to run a benchmark can be found in [here](benchmarks/Benchmark.md)\n",
      "\n",
      "##Scaling up\n",
      "* [Using Spark in AWS EMR and Dockers in AWS ECS ](http://blogs.aws.amazon.com/bigdata/post/TxGEL8IJ0CAXTK/Generating-Recommendations-at-Amazon-Scale-with-Apache-Spark-and-Amazon-DSSTNE)\n",
      "    \n",
      "\n",
      "## License\n",
      "[License](LICENSE)\n",
      "\n",
      "\n",
      " \n",
      " \n",
      "\n",
      "## Setup\n",
      "* Follow [Setup](docs/getting_started/setup.md) for step by step instructions on installing and setting up DSSTNE\n",
      "\n",
      "## User Guide\n",
      "* Check [User Guide](docs/getting_started/userguide.md) for detailed information about the features in DSSTNE\n",
      "\n",
      "## Examples\n",
      "* Check [Examples](docs/getting_started/examples.md) to start trying your first Neural Network Modeling using DSSTNE\n",
      "\n",
      "## Q&A\n",
      "[FAQ](FAQ.md)appended line\n",
      "[master cada8db] updated README.md\n",
      " 1 file changed, 1 insertion(+), 1 deletion(-)\n",
      "On branch master\n",
      "Your branch is ahead of 'origin/master' by 1 commit.\n",
      "  (use \"git push\" to publish your local commits)\n",
      "nothing to commit, working tree clean\n"
     ]
    }
   ],
   "source": [
    "%%bash\n",
    "\n",
    "cd amazon-dsstne/\n",
    "ls\n",
    "echo \"appended line\" >> README.md\n",
    "cat README.md\n",
    "git add *\n",
    "git commit -m \"updated README.md\"\n",
    "git status\n",
    "# (Placeholder in case I find repo I want to use)"
   ]
  },
  {
   "cell_type": "markdown",
   "metadata": {},
   "source": [
    "## 3: The Master Branch\n",
    "\n",
    "In the last screen, when you ran git status, your output looked something like this:\n",
    "\n",
    "    On branch master                                                                \n",
    "    Your branch is ahead of 'origin/master' by 1 commit.                            \n",
    "      (use \"git push\" to publish your local commits)\n",
    "    ​\n",
    "    nothing to commit, working directory clean\n",
    "\n",
    "The first two lines mention the terms branch, master, and origin, all of which may be unfamiliar. We'll look at branch and master in this screen, and origin in the next screen.\n",
    "\n",
    "Every git repository consists of one or more branches. Each branch is a slightly different version of the code. We'll dive more into branches and how they work in the next mission, but the important fact to know now is that the main branch of a git repo is typically called master. Developers will create separate branches when they want to work on new features for a project, then add the commits in those branches back into master when the features are ready.\n",
    "\n",
    "All of the changes we've made so far have been on the master branch of the chatbot repo. The master branch is usually the most up-to-date shared version of any code project.\n",
    "\n",
    "We can check what branch we're on by using git branch. This will list all of the branches in the repo, along with the branch that is currently active."
   ]
  },
  {
   "cell_type": "code",
   "execution_count": 9,
   "metadata": {
    "collapsed": false
   },
   "outputs": [
    {
     "name": "stdout",
     "output_type": "stream",
     "text": [
      "* master\n"
     ]
    }
   ],
   "source": [
    "%%bash\n",
    "cd amazon-dsstne/\n",
    "git branch"
   ]
  },
  {
   "cell_type": "markdown",
   "metadata": {},
   "source": [
    "## 4: Pushing Changes To The Remote\n",
    "\n",
    "Once you've made changes to the local version of the repo, you can push those changes to the remote repo so that your changes can be viewed by everyone. Changes you make locally are only reflected in your local repo. Unless you push these changes to the remote, the remote repo doesn't change.\n",
    "\n",
    "To do this, you'll need to use the **git push** command, which pushes commits from your local repo to the remote repo. Here's a diagram showing what happens when you run git push:\n",
    "\n",
    "<img src=\"data/diagram2.png\"/>\n",
    "\n",
    "As you can see, until you push the branch to the remote repo, the changes are only in your local repo. Once you push to the remote, it's updated with your latest changes. Anyone else who pulls from the remote repo will then have access to the same two commits as you do in your local repo.\n",
    "\n",
    "When you run git push, you'll need to specify both the name of a remote to push to, and the name of a branch to push. When you clone a repo, git automatically names the remote repo origin. This means that the following command will push the master branch to the remote repo:\n",
    "\n",
    "    git push origin master\n",
    "\n",
    "It's possible, but rare, that a remote will have a name other than origin. In cases where you're unsure, you can list remotes using **git remote**.\n",
    "\n",
    "git remote will list all of the remotes. If you specify the -v option, you'll get additional information about where the remote repos are located."
   ]
  },
  {
   "cell_type": "code",
   "execution_count": 11,
   "metadata": {
    "collapsed": false
   },
   "outputs": [
    {
     "name": "stdout",
     "output_type": "stream",
     "text": [
      "origin\n"
     ]
    },
    {
     "name": "stderr",
     "output_type": "stream",
     "text": [
      "remote: Permission to amznlabs/amazon-dsstne.git denied to austinmw.\n",
      "fatal: unable to access 'https://github.com/amznlabs/amazon-dsstne.git/': The requested URL returned error: 403\n"
     ]
    }
   ],
   "source": [
    "%%bash\n",
    "cd amazon-dsstne/\n",
    "git remote\n",
    "# (don't actually have permission to push)\n",
    "#git push origin master "
   ]
  },
  {
   "cell_type": "markdown",
   "metadata": {},
   "source": [
    "## 5: Viewing Individual Commits\n",
    "\n",
    "If you'll recall from the previous mission, git stores the history of the repo as a series of commits. Each commit contains the difference between the current commit and the previous commit. This allows git to very efficiently store history, and replay that history to reconstruct the working directory. The working directory is the folder on your computer where you edit files, then add the changes, then make commits. Commits are separate from the working directory, and are a snapshot of all the files in the working directory at a specific point in time.\n",
    "\n",
    "You can see the full commit history of the master branch of the local chatbot repo with git log. Here's the output you might get from git log:\n",
    "\n",
    "    commit 6a95e94ea10caa28013b767510d4bc59369d83fa                                 \n",
    "    Author: Dataquest <me@dataquest.io>                                             \n",
    "    Date:   Wed May 18 21:56:27 2016 +0000                                          \n",
    "\n",
    "        Updated README.md                                                           \n",
    "\n",
    "    commit 8a1ca35dd5c5de8f93aa6cbbd153caa40233386c                                 \n",
    "    Author: Dataquest <me@dataquest.io>                                             \n",
    "    Date:   Wed May 18 21:55:33 2016 +0000                                          \n",
    "\n",
    "        Add the initial version of README.md    \n",
    "    </me@dataquest.io></me@dataquest.io>\n",
    "\n",
    "This history shows two commits, the first one with the message Add the initial version of README.md, and the second with the message Updated README.md. The great thing about git is that it stores both commits, so we can easily revert back to a previous commit if we want to.\n",
    "\n",
    "In order to do this, we'll need to use the hash of the commit. The hash is a unique identifier for each commit, and allows us to perform operations like reverting to a specific commit. In the above output, the first commit has the id 8a1ca35dd5c5de8f93aa6cbbd153caa40233386c, and the second commit has the id 6a95e94ea10caa28013b767510d4bc59369d83fa.\n",
    "\n",
    "We can use the git show command, along with a hash, to see what changed in a specific commit. Running git show 6a95e94ea10caa28013b767510d4bc59369d83fa in the above example would result in:\n",
    "\n",
    "    commit 6a95e94ea10caa28013b767510d4bc59369d83fa                                 \n",
    "    Author: Dataquest <me@dataquest.io>                                             \n",
    "    Date:   Wed May 18 21:56:27 2016 +0000                                          \n",
    "\n",
    "        Updated README.md                                                           \n",
    "\n",
    "    diff --git a/README.md b/README.md                                              \n",
    "    index f4871de..9c05964 100644                                                   \n",
    "    --- a/README.md                                                                 \n",
    "    +++ b/README.md                                                                 \n",
    "    @@ -1,3 +1,3 @@                                                                 \n",
    "     README\n",
    "\n",
    "    -This is a README file.  It's typical for Github projects to have a README.  A README gives information about what the project is about, and usually how to install and use it.\n",
    "    \\ No newline at end of file                                                     \n",
    "    +This is a README file.  It's typical for Github projects to have a README.  A README gives information about what the project is about, and usually how to install and use it.This project needs no installation!\n",
    "    </me@dataquest.io>\n",
    "    \n",
    "This indicates that the README.md file was changed in this commit, and the line This project needs no installation! was added. a/README.md is the file state before the commit, and b/README.md is the file state after the commit.\n",
    "\n",
    "git show will allow you to scroll up and down and side to side. You'll need to type q to exit it."
   ]
  },
  {
   "cell_type": "code",
   "execution_count": 5,
   "metadata": {
    "collapsed": true
   },
   "outputs": [],
   "source": [
    "# (Placeholder in case I find repo I want to use)"
   ]
  },
  {
   "cell_type": "code",
   "execution_count": null,
   "metadata": {
    "collapsed": true
   },
   "outputs": [],
   "source": []
  }
 ],
 "metadata": {
  "kernelspec": {
   "display_name": "Python 3",
   "language": "python",
   "name": "python3"
  },
  "language_info": {
   "codemirror_mode": {
    "name": "ipython",
    "version": 3
   },
   "file_extension": ".py",
   "mimetype": "text/x-python",
   "name": "python",
   "nbconvert_exporter": "python",
   "pygments_lexer": "ipython3",
   "version": "3.6.0"
  }
 },
 "nbformat": 4,
 "nbformat_minor": 2
}
