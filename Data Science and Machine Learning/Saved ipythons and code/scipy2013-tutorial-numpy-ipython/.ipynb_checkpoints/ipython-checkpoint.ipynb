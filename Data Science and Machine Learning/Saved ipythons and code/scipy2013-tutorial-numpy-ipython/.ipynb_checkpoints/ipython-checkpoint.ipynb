{
 "cells": [
  {
   "cell_type": "markdown",
   "metadata": {},
   "source": [
    "#  Introduction to the IPython notebook"
   ]
  },
  {
   "cell_type": "markdown",
   "metadata": {},
   "source": [
    "## Basics "
   ]
  },
  {
   "cell_type": "markdown",
   "metadata": {},
   "source": [
    "* The notebook consists of individual cells\n",
    "* Each cell may contain code or text (amongst other options)\n",
    "* Text format can be [markdown](http://daringfireball.net/projects/markdown), HTML or LaTeX\n",
    "* Code cells are run using:\n",
    "  * **shift + enter** will move to next cell\n",
    "  * **ctrl + enter** will stay in the current cell\n",
    "* Markdown cells can be modified by double-clicking on them"
   ]
  },
  {
   "cell_type": "code",
   "execution_count": null,
   "metadata": {
    "collapsed": false
   },
   "outputs": [],
   "source": [
    "\"Hello IPython notebook!\""
   ]
  },
  {
   "cell_type": "code",
   "execution_count": null,
   "metadata": {
    "collapsed": false
   },
   "outputs": [],
   "source": [
    "# Only the last statement will be shown\n",
    "L = ['red', 'blue', 'green', 'black', 'white']\n",
    "type(L)\n",
    "#sorted(L)  # uncomment this line to show the sorted list instead of the type"
   ]
  },
  {
   "cell_type": "code",
   "execution_count": null,
   "metadata": {
    "collapsed": false,
    "slideshow": {
     "slide_start": false
    }
   },
   "outputs": [],
   "source": [
    "# An example code cell using stuff from pylab\n",
    "\n",
    "# numpy's linspace and pi\n",
    "x = linspace(0, 3*pi, 500)\n",
    "\n",
    "# matplotlib's plot and title\n",
    "plot(x, sin(x**2))\n",
    "title('A simple chirp');"
   ]
  },
  {
   "cell_type": "code",
   "execution_count": null,
   "metadata": {
    "collapsed": false,
    "slideshow": {
     "slide_start": false
    }
   },
   "outputs": [],
   "source": [
    "# Errors lead to detailed tracebacks\n",
    "x = \"Hello IPython!\"\n",
    "\n",
    "y = 42\n",
    "\n",
    "z = x + y"
   ]
  },
  {
   "cell_type": "code",
   "execution_count": null,
   "metadata": {
    "collapsed": false
   },
   "outputs": [],
   "source": [
    "# Echo the version of IPython\n",
    "import IPython\n",
    "IPython.__version__"
   ]
  },
  {
   "cell_type": "markdown",
   "metadata": {},
   "source": [
    "### Exercise"
   ]
  },
  {
   "cell_type": "markdown",
   "metadata": {},
   "source": [
    "* Download the IPython notebook file\n",
    "* Execute `ipython notebook --pylab=inline` to launch the notebook\n",
    "* Execute the cells in the above section using both **shift + enter** and **control + enter**\n",
    "* Make a tiny modification to one of the cells and execute it again"
   ]
  },
  {
   "cell_type": "markdown",
   "metadata": {},
   "source": [
    "## Navigation and cell manipulation"
   ]
  },
  {
   "cell_type": "markdown",
   "metadata": {},
   "source": [
    "* You can:\n",
    "  * Select/add/delete/move/insert cells\n",
    "\n",
    "* Using:\n",
    "  * Menu\n",
    "  * Toolbar\n",
    "  * Keyboard shortcuts (via the Help menu)"
   ]
  },
  {
   "cell_type": "markdown",
   "metadata": {},
   "source": [
    "### Exercise"
   ]
  },
  {
   "cell_type": "markdown",
   "metadata": {},
   "source": [
    "* Create a markdown cell, a header cell and a code cell\n",
    "* Move the cells around using Edit-> Move Cell\n",
    "* Cut and paste a cell to a different location\n",
    "* Use the menu, the toolbar and look at the keyboard shortcuts\n",
    "* Try **shift + enter** when on the last cell in the notebook. What happens?"
   ]
  },
  {
   "cell_type": "markdown",
   "metadata": {},
   "source": [
    "## Markdown Cells"
   ]
  },
  {
   "cell_type": "markdown",
   "metadata": {},
   "source": [
    "Markdown basics: lists, markup and code\n",
    "\n",
    "* list item \n",
    "* list item\n",
    "  * nested list item\n",
    "\n",
    "\n",
    "* *italics*\n",
    "* **bold**\n",
    "* `fixed_font`\n",
    "\n",
    "Code examples:\n",
    "\n",
    "    def hello_ipython():\n",
    "        print \"Hello IPython!\""
   ]
  },
  {
   "cell_type": "markdown",
   "metadata": {},
   "source": [
    "Markdown cells can also contain HTML\n",
    "\n",
    "<p>Markdown basics: lists, markup and code</p>\n",
    "\n",
    "<ul>\n",
    "<li>list item</li>\n",
    "<li><p>list item</p>\n",
    "\n",
    "<ul>\n",
    "<li>nested list item</li>\n",
    "</ul></li>\n",
    "<li><p><em>italics</em></p></li>\n",
    "<li><strong>bold</strong></li>\n",
    "\n",
    "<li><code>fixed_font</code></li>\n",
    "</ul>\n",
    "\n",
    "<p>Code examples:</p>\n",
    "\n",
    "<pre><code>def hello_ipython():\n",
    "    print \"Hello IPython!\"\n",
    "</code></pre>"
   ]
  },
  {
   "cell_type": "markdown",
   "metadata": {},
   "source": [
    "Using math mode (anything between two `$`s or two `$$`s) is interpreted as $LaTeX$ math:\n",
    "\n",
    "$$ D_{KL}(P||Q) = \\sum\\limits_{i}ln (\\frac{P(i)}{Q(i)}) P(i)$$"
   ]
  },
  {
   "cell_type": "markdown",
   "metadata": {},
   "source": [
    "### Exercises"
   ]
  },
  {
   "cell_type": "markdown",
   "metadata": {},
   "source": [
    "* Modify or create a markdown cell and use:\n",
    "  * Markdown\n",
    "  * HTML\n",
    "  * LateX math\n",
    "\n",
    "* Use either `$` or ``$$`` for the math expressions. What is the difference?\n",
    "\n",
    "* Look at the [markdown syntax page](http://daringfireball.net/projects/markdown/syntax#span) (or this cell) to find out how to create hyperlinks"
   ]
  },
  {
   "cell_type": "markdown",
   "metadata": {},
   "source": [
    "## Help"
   ]
  },
  {
   "cell_type": "code",
   "execution_count": null,
   "metadata": {
    "collapsed": false
   },
   "outputs": [],
   "source": [
    "# Help on python objects using the '?'\n",
    "import IPython\n",
    "IPython?"
   ]
  },
  {
   "cell_type": "code",
   "execution_count": null,
   "metadata": {
    "collapsed": false
   },
   "outputs": [],
   "source": [
    "# Using the built-in help\n",
    "help(IPython)"
   ]
  },
  {
   "cell_type": "markdown",
   "metadata": {},
   "source": [
    "Double click on the divider to close the help console\n"
   ]
  },
  {
   "cell_type": "code",
   "execution_count": null,
   "metadata": {
    "collapsed": false
   },
   "outputs": [],
   "source": [
    "# Tab completion is available\n",
    "IPython.  # press TAB after the period"
   ]
  },
  {
   "cell_type": "markdown",
   "metadata": {},
   "source": [
    "The *Help* menu item has links to IPython and the scientific packages"
   ]
  },
  {
   "cell_type": "markdown",
   "metadata": {},
   "source": [
    "## Loading and Saving"
   ]
  },
  {
   "cell_type": "markdown",
   "metadata": {},
   "source": [
    "* Dashboard shows all notebooks in the directory where it was started from\n",
    "* Use the dashboard to create new notebooks\n",
    "* Files saved as JSON with the ``.ipynb`` extension\n",
    "* Not meant for human consumption\n"
   ]
  },
  {
   "cell_type": "markdown",
   "metadata": {},
   "source": [
    "* Use File -> Print View for a version without the controls\n",
    "* Execute the cells who's output you want to show\n",
    "* Save to HTML or print to PDF"
   ]
  },
  {
   "cell_type": "markdown",
   "metadata": {},
   "source": [
    "* When running from someone else's server, use File -> Download\n",
    "* Either as ``*.ipynb`` file\n",
    "* Or as ``*.py`` file with the markdown as comments\n",
    "* [``*.py`` file can also be imported](http://ipython.org/ipython-doc/dev/interactive/htmlnotebook.html#exporting-a-notebook-and-importing-existing-scripts)"
   ]
  },
  {
   "cell_type": "markdown",
   "metadata": {},
   "source": [
    "* There is also the online [nbviewer](http://nbviewer.ipython.org/)\n",
    "* This can render a static version of a publicly available notebook."
   ]
  },
  {
   "cell_type": "markdown",
   "metadata": {},
   "source": [
    "### Exercises"
   ]
  },
  {
   "cell_type": "markdown",
   "metadata": {},
   "source": [
    "* Create a new notebook from the dashboard\n",
    "* Look at a saved ``*.ipynb`` file. Can you decipher it at least somewhat.\n",
    "* Save the notebook as ``*.py`` file. What does this look like in the editor?\n",
    "* Find an IPython notebook online and try it with the nbviewer site."
   ]
  },
  {
   "cell_type": "markdown",
   "metadata": {},
   "source": [
    "## Images and Video"
   ]
  },
  {
   "cell_type": "code",
   "execution_count": null,
   "metadata": {
    "collapsed": false,
    "slideshow": {
     "slide_start": false
    }
   },
   "outputs": [],
   "source": [
    "from IPython.display import Image\n",
    "\n",
    "Image(filename='images/logo.png')"
   ]
  },
  {
   "cell_type": "code",
   "execution_count": null,
   "metadata": {
    "collapsed": false,
    "slideshow": {
     "slide_start": false
    }
   },
   "outputs": [],
   "source": [
    "from IPython.display import YouTubeVideo\n",
    "\n",
    "YouTubeVideo('F4rFuIb1Ie4')"
   ]
  },
  {
   "cell_type": "code",
   "execution_count": null,
   "metadata": {
    "collapsed": false
   },
   "outputs": [],
   "source": [
    "# Alternatively, load an image from a URL\n",
    "Image(url='http://octodex.github.com/images/pythocat.png')"
   ]
  },
  {
   "cell_type": "markdown",
   "metadata": {},
   "source": [
    "## Things I haven't covered"
   ]
  },
  {
   "cell_type": "markdown",
   "metadata": {},
   "source": [
    "* Hiding output\n",
    "* Debugging by attaching a QTConsole\n",
    "* Restarting the kernel in case of crashes\n",
    "* Cython magic\n",
    "\n",
    "* [In-depth IPython tutorial this afternoon](https://conference.scipy.org/scipy2013/tutorial_detail.php?id=104)"
   ]
  }
 ],
 "metadata": {
  "anaconda-cloud": {},
  "kernelspec": {
   "display_name": "Python [default]",
   "language": "python",
   "name": "python3"
  },
  "language_info": {
   "codemirror_mode": {
    "name": "ipython",
    "version": 3
   },
   "file_extension": ".py",
   "mimetype": "text/x-python",
   "name": "python",
   "nbconvert_exporter": "python",
   "pygments_lexer": "ipython3",
   "version": "3.5.2"
  }
 },
 "nbformat": 4,
 "nbformat_minor": 0
}
